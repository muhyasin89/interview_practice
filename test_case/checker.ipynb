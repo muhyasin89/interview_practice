{
 "cells": [
  {
   "cell_type": "code",
   "execution_count": 3,
   "metadata": {},
   "outputs": [
    {
     "name": "stdout",
     "output_type": "stream",
     "text": [
      "{'row': 0, 'column': 0}\n",
      "{'row': 0, 'column': 11}\n",
      "{'row': 1, 'column': 0}\n",
      "{'row': 1, 'column': 11}\n",
      "{'row': 2, 'column': 11}\n",
      "{'row': 3, 'column': 11}\n"
     ]
    }
   ],
   "source": [
    "import json\n",
    "\n",
    "with open('green_seat.json') as json_file:\n",
    "    data = json.load(json_file)\n",
    "    for p in data:\n",
    "        print(p)"
   ]
  },
  {
   "cell_type": "code",
   "execution_count": 5,
   "metadata": {},
   "outputs": [
    {
     "name": "stdout",
     "output_type": "stream",
     "text": [
      "{'row': 0, 'column': 1}\n",
      "{'row': 0, 'column': 4}\n",
      "{'row': 0, 'column': 5}\n",
      "{'row': 0, 'column': 10}\n",
      "{'row': 1, 'column': 4}\n",
      "{'row': 1, 'column': 5}\n",
      "{'row': 1, 'column': 10}\n",
      "{'row': 2, 'column': 4}\n",
      "{'row': 2, 'column': 5}\n",
      "{'row': 2, 'column': 10}\n"
     ]
    }
   ],
   "source": [
    "import json\n",
    "\n",
    "with open('red_seat.json') as json_file:\n",
    "    data = json.load(json_file)\n",
    "    for p in data:\n",
    "        print(p)"
   ]
  },
  {
   "cell_type": "code",
   "execution_count": 6,
   "metadata": {},
   "outputs": [
    {
     "name": "stdout",
     "output_type": "stream",
     "text": [
      "{'row': 0, 'column': 1}\n",
      "{'row': 0, 'column': 4}\n",
      "{'row': 0, 'column': 5}\n",
      "{'row': 0, 'column': 10}\n",
      "{'row': 1, 'column': 4}\n",
      "{'row': 1, 'column': 5}\n",
      "{'row': 1, 'column': 10}\n",
      "{'row': 2, 'column': 4}\n",
      "{'row': 2, 'column': 5}\n",
      "{'row': 2, 'column': 10}\n"
     ]
    }
   ],
   "source": [
    "import json\n",
    "\n",
    "\n",
    "with open('red_seat.json') as json_file:\n",
    "    data = json.load(json_file)\n",
    "    for p in data:\n",
    "        print(p)"
   ]
  },
  {
   "cell_type": "code",
   "execution_count": null,
   "metadata": {},
   "outputs": [],
   "source": []
  }
 ],
 "metadata": {
  "kernelspec": {
   "display_name": "Python 3",
   "language": "python",
   "name": "python3"
  },
  "language_info": {
   "codemirror_mode": {
    "name": "ipython",
    "version": 3
   },
   "file_extension": ".py",
   "mimetype": "text/x-python",
   "name": "python",
   "nbconvert_exporter": "python",
   "pygments_lexer": "ipython3",
   "version": "3.7.3"
  }
 },
 "nbformat": 4,
 "nbformat_minor": 2
}
