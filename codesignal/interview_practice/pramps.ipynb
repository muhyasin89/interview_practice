{
 "cells": [
  {
   "cell_type": "code",
   "execution_count": 3,
   "metadata": {},
   "outputs": [],
   "source": [
    "def decodeVariations(S):\n",
    "  \"\"\"\n",
    "  @param S: str\n",
    "  @return: int\n",
    "  \"\"\"\n",
    "\n",
    "  if S.length == 1:\n",
    "    return 1\n",
    "  else:\n",
    "    if S[0] == \"1\":\n",
    "      return 2 + decodeVariations(S[1:])\n",
    "    elif int(S[0]) == 2 and int(S[1]) <= 6:\n",
    "      return 2 + decodeVariations(S[1:])\n",
    "    else:\n",
    "      return 1 + decodeVariations(S[1:])\n",
    "    "
   ]
  },
  {
   "cell_type": "code",
   "execution_count": 14,
   "metadata": {},
   "outputs": [
    {
     "ename": "IndexError",
     "evalue": "too many indices for array",
     "output_type": "error",
     "traceback": [
      "\u001b[0;31m---------------------------------------------------------------------------\u001b[0m",
      "\u001b[0;31mIndexError\u001b[0m                                Traceback (most recent call last)",
      "\u001b[0;32m<ipython-input-14-d93bf511b40a>\u001b[0m in \u001b[0;36m<module>\u001b[0;34m\u001b[0m\n\u001b[1;32m     19\u001b[0m     \u001b[0;32mreturn\u001b[0m \u001b[0mdp\u001b[0m\u001b[0;34m[\u001b[0m\u001b[0;36m0\u001b[0m\u001b[0;34m]\u001b[0m\u001b[0;34m\u001b[0m\u001b[0;34m\u001b[0m\u001b[0m\n\u001b[1;32m     20\u001b[0m \u001b[0;34m\u001b[0m\u001b[0m\n\u001b[0;32m---> 21\u001b[0;31m \u001b[0mprint\u001b[0m\u001b[0;34m(\u001b[0m\u001b[0mdecodeVariations\u001b[0m\u001b[0;34m(\u001b[0m\u001b[0;34m\"1123\"\u001b[0m\u001b[0;34m)\u001b[0m\u001b[0;34m)\u001b[0m\u001b[0;34m\u001b[0m\u001b[0;34m\u001b[0m\u001b[0m\n\u001b[0m",
      "\u001b[0;32m<ipython-input-14-d93bf511b40a>\u001b[0m in \u001b[0;36mdecodeVariations\u001b[0;34m(S)\u001b[0m\n\u001b[1;32m      4\u001b[0m     \u001b[0mN\u001b[0m \u001b[0;34m=\u001b[0m \u001b[0mlen\u001b[0m\u001b[0;34m(\u001b[0m\u001b[0mS\u001b[0m\u001b[0;34m)\u001b[0m\u001b[0;34m\u001b[0m\u001b[0;34m\u001b[0m\u001b[0m\n\u001b[1;32m      5\u001b[0m     \u001b[0mdp\u001b[0m \u001b[0;34m=\u001b[0m \u001b[0marray\u001b[0m\u001b[0;34m(\u001b[0m\u001b[0mN\u001b[0m\u001b[0;34m)\u001b[0m\u001b[0;34m\u001b[0m\u001b[0;34m\u001b[0m\u001b[0m\n\u001b[0;32m----> 6\u001b[0;31m     \u001b[0mdp\u001b[0m\u001b[0;34m[\u001b[0m\u001b[0mN\u001b[0m\u001b[0;34m]\u001b[0m \u001b[0;34m=\u001b[0m \u001b[0;36m1\u001b[0m\u001b[0;34m\u001b[0m\u001b[0;34m\u001b[0m\u001b[0m\n\u001b[0m\u001b[1;32m      7\u001b[0m     \u001b[0;32mfor\u001b[0m \u001b[0mi\u001b[0m \u001b[0;32min\u001b[0m \u001b[0mrange\u001b[0m\u001b[0;34m(\u001b[0m\u001b[0mN\u001b[0m\u001b[0;34m-\u001b[0m\u001b[0;36m1\u001b[0m\u001b[0;34m,\u001b[0m \u001b[0;36m0\u001b[0m\u001b[0;34m)\u001b[0m\u001b[0;34m:\u001b[0m\u001b[0;34m\u001b[0m\u001b[0;34m\u001b[0m\u001b[0m\n\u001b[1;32m      8\u001b[0m         \u001b[0;32mif\u001b[0m \u001b[0mS\u001b[0m\u001b[0;34m[\u001b[0m\u001b[0mi\u001b[0m\u001b[0;34m]\u001b[0m \u001b[0;34m==\u001b[0m \u001b[0;34m'0'\u001b[0m\u001b[0;34m:\u001b[0m\u001b[0;34m\u001b[0m\u001b[0;34m\u001b[0m\u001b[0m\n",
      "\u001b[0;31mIndexError\u001b[0m: too many indices for array"
     ]
    }
   ],
   "source": [
    "from numpy import array\n",
    "\n",
    "def decodeVariations(S):\n",
    "    N = len(S)\n",
    "    dp = array(N)\n",
    "    dp[N] = 1\n",
    "    for i in range(N-1, 0):\n",
    "        if S[i] == '0':\n",
    "            dp[i] = 0\n",
    "        elif S[i] == '1':\n",
    "            dp[i] = dp[i+1] + dp[i+2]\n",
    "        elif S[i] == '2':\n",
    "            dp[i] = dp[i+1]\n",
    "            if i+1 < N and S[i+1] <= '6':\n",
    "                dp[i] += dp[i+2]\n",
    "        else:\n",
    "            dp[i] = dp[i+1]\n",
    "\n",
    "    return dp[0]\n",
    "\n",
    "print(decodeVariations(\"1123\"))"
   ]
  },
  {
   "cell_type": "code",
   "execution_count": 16,
   "metadata": {},
   "outputs": [
    {
     "name": "stdout",
     "output_type": "stream",
     "text": [
      "5\n"
     ]
    }
   ],
   "source": [
    "def decodeVariations(S):\n",
    "  \"\"\"\n",
    "  @param S: str\n",
    "  @return: int\n",
    "  \"\"\"\n",
    "  \n",
    "  if len(S) == 1:\n",
    "    if int(S[0]) == 0:\n",
    "      return 0\n",
    "    return 1\n",
    "  else:\n",
    "    if int(S[0]) == 1:\n",
    "      return decodeVariations(S[1:]) + (1 if len(S)==2 else decodeVariations(S[2:]))\n",
    "    elif int(S[0]) == 2 & int(S[1]) <= 6:\n",
    "      return decodeVariations(S[1:]) + (1 if len(S)==2 else decodeVariations(S[2:]))\n",
    "    elif int(S[0]) >= 2 & int(S[1]) == 0:\n",
    "      return 0\n",
    "    else:\n",
    "      return decodeVariations(S[1:])\n",
    "      \n",
    "      \n",
    "print(decodeVariations(\"1123\"))"
   ]
  },
  {
   "cell_type": "markdown",
   "metadata": {},
   "source": [
    "<h3>Decode Variations</h3>\n",
    "A letter can be encoded to a number in the following way:\n",
    "\n",
    "'A' -> '1', 'B' -> '2', 'C' -> '3', ..., 'Z' -> '26'\n",
    "A message is a string of uppercase letters, and it is encoded first using this scheme. For example, 'AZB' -> '1262'\n",
    "\n",
    "Given a string of digits S from 0-9 representing an encoded message, return the number of ways to decode it.\n",
    "\n",
    "Examples:\n",
    "\n",
    "input:  S = '1262'\n",
    "output: 3\n",
    "explanation: There are 3 messages that encode to '1262': 'AZB', 'ABFB', and 'LFB'.\n",
    "Constraints:\n",
    "\n",
    "[time limit] 5000ms\n",
    "\n",
    "[input] string S\n",
    "\n",
    "1 ≤ S.length ≤ 12\n",
    "[output] integer\n",
    "\n"
   ]
  },
  {
   "cell_type": "markdown",
   "metadata": {},
   "source": [
    "<h3>Decode Variations</h3>\n",
    "Try to write the number of ways to write S[i:] in terms of the number of ways to write S[i+1:] and S[i+2:]. For example, if there are 2 ways to write S[1:] = '262' ('ZB' and 'BFB'), and one way to write S[2:] = '62' ('FB'), then we could say there are 3 ways to write S as we either write 'A' then a decoding of S[1:], or write 'L' then a decoding of S[2:].\n",
    "\n",
    "We can store the answer for S[i:] into an integer array dp.\n",
    "\n",
    "The recursion is given below. You can help the candidate with the specific part of the recursion they are having difficulty with:\n",
    "\n",
    "If S[i] == 0, then dp(i) = 0.\n",
    "\n",
    "If S[i] == 1, then we have dp(i) = dp(i+1) + dp(i+2).\n",
    "\n",
    "If S[i] == 2, then we have dp(i) = dp(i+1) + (S[i+1] <= 6 ? dp(i+2) : 0).\n",
    "\n",
    "If S[i] > 2, then we have dp(i) = dp(i+1).\n",
    "\n"
   ]
  },
  {
   "cell_type": "markdown",
   "metadata": {},
   "source": [
    "<h3>Decode Variations\n",
    "Solution: Dynamic Programming</h3>\n",
    "\n",
    "Let dp(i) be the answer for the string S[i:]. We can calculate dp(i) in terms of dp(i+1) and dp(i+2).\n",
    "\n",
    "If S[i] == 0, then dp(i) = 0. There are no ways, since no encoded letter starts with 0.\n",
    "\n",
    "If S[i] == 1, then we have dp(i) = dp(i+1) + dp(i+2), since either we write A plus any way to write S[i+1:], or we write a letter that encodes somewhere between 10 and 19, plus any way to write S[i+2:].\n",
    "\n",
    "If S[i] == 2, then we have dp(i) = dp(i+1) + (S[i+1] <= 6 ? dp(i+2) : 0). Either we write B plus any way to write S[i+1:], or we write a letter that encodes somewhere between 20 and 26, plus any way to write S[i+2:].\n",
    "\n",
    "If S[i] > 2, then we have dp(i) = dp(i+1). For example, if S[i] = 5, then we write E plus any way to write S[i+1:]. We can’t write any other letters because the only letter which has encoding that starts with 5 is E.\n",
    "\n",
    "Putting this all together, we have the following code:\n",
    "\n"
   ]
  },
  {
   "cell_type": "code",
   "execution_count": 17,
   "metadata": {},
   "outputs": [
    {
     "ename": "SyntaxError",
     "evalue": "invalid syntax (<ipython-input-17-621db110bcb3>, line 2)",
     "output_type": "error",
     "traceback": [
      "\u001b[0;36m  File \u001b[0;32m\"<ipython-input-17-621db110bcb3>\"\u001b[0;36m, line \u001b[0;32m2\u001b[0m\n\u001b[0;31m    function decodeVariations(S):\u001b[0m\n\u001b[0m                            ^\u001b[0m\n\u001b[0;31mSyntaxError\u001b[0m\u001b[0;31m:\u001b[0m invalid syntax\n"
     ]
    }
   ],
   "source": [
    "\n",
    "function decodeVariations(S):\n",
    "    N = S.length\n",
    "    dp = new Array(N)\n",
    "    dp[N] = 1\n",
    "    for i from N-1 to 0:\n",
    "        if S[i] == '0':\n",
    "            dp[i] = 0\n",
    "        else if S[i] == '1':\n",
    "            dp[i] = dp[i+1] + dp[i+2]\n",
    "        else if S[i] == '2':\n",
    "            dp[i] = dp[i+1]\n",
    "            if i+1 < S.length && S[i+1] <= '6':\n",
    "                dp[i] += dp[i+2]\n",
    "        else:\n",
    "            dp[i] = dp[i+1]\n",
    "\n",
    "    return dp[0]"
   ]
  },
  {
   "cell_type": "markdown",
   "metadata": {},
   "source": [
    "Of course, since at each step we only reference dp[i+1] and dp[i+2], we could store these as variables first and second. This means we do not need to store the entire array:\n"
   ]
  },
  {
   "cell_type": "code",
   "execution_count": 18,
   "metadata": {},
   "outputs": [
    {
     "ename": "SyntaxError",
     "evalue": "invalid syntax (<ipython-input-18-1f14bd06413c>, line 2)",
     "output_type": "error",
     "traceback": [
      "\u001b[0;36m  File \u001b[0;32m\"<ipython-input-18-1f14bd06413c>\"\u001b[0;36m, line \u001b[0;32m2\u001b[0m\n\u001b[0;31m    function decodeVariations(S):\u001b[0m\n\u001b[0m                            ^\u001b[0m\n\u001b[0;31mSyntaxError\u001b[0m\u001b[0;31m:\u001b[0m invalid syntax\n"
     ]
    }
   ],
   "source": [
    "\n",
    "function decodeVariations(S):\n",
    "    pre, cur = 27, 0\n",
    "    first, second = 1, 1\n",
    "\n",
    "    for i from S.length - 1 to 0:\n",
    "        d = int(S[i])\n",
    "        if d == 0:\n",
    "            cur = 0\n",
    "        else:\n",
    "            cur = first\n",
    "            # pre represents the previously seen number S[i+1]\n",
    "            # If d*10 + pre < 26 (and d != 0), it is valid to\n",
    "            # write a letter that uses two digits of encoding length,\n",
    "            # so we count 'second = dp[i+2]' in our current answer.\n",
    "            if d * 10 + pre < 27:\n",
    "                cur += second\n",
    "\n",
    "        pre = d\n",
    "        first, second = cur, first\n",
    "\n",
    "    return cur"
   ]
  },
  {
   "cell_type": "markdown",
   "metadata": {},
   "source": [
    "Time Complexity: O(N) where N is the length of S.\n",
    "\n",
    "Space Complexity: O(N) to store the array dp. In our space saving variation, the complexity is O(1)."
   ]
  },
  {
   "cell_type": "code",
   "execution_count": 33,
   "metadata": {},
   "outputs": [
    {
     "name": "stdout",
     "output_type": "stream",
     "text": [
      "num decode 0\n",
      "This is val: 1\n",
      "decode pointer:123 1 [-1, -1, -1]\n",
      "num decode 1\n",
      "This is val: 2\n",
      "decode pointer:123 2 [-1, -1, -1]\n",
      "num decode 2\n",
      "This is val: 3\n",
      "decode pointer:123 3 [-1, -1, -1]\n",
      "num decode 3\n",
      "Total decompositions 1\n",
      "this is decodePointer: 1\n",
      "Total decompositions 1\n",
      "this is decodePointer: 1\n",
      "Total decompositions 1\n",
      "this is decodePointer: 1\n",
      "1\n"
     ]
    }
   ],
   "source": [
    "\"\"\"\n",
    "#make recursiive class\n",
    "#create list with [-1]\n",
    "# at the end will have same as variable\n",
    "\"\"\"\n",
    "\n",
    "def numDecodings(s, decodePointer=None, dp=[]):\n",
    "    if decodePointer is None and len(dp) == 0:\n",
    "        dp = [-1]*len(s)\n",
    "        return numDecodings(s, 0, dp)\n",
    "    else:\n",
    "        \n",
    "        print(\"num decode {}\".format(decodePointer))\n",
    "        if (decodePointer >= len(s)):\n",
    "          return 1; # \"\" is a valid decomposition\n",
    "\n",
    "\n",
    "        # Subproblem already solved and has a value       \n",
    "        if (dp[decodePointer] > -1):\n",
    "             return dp[decodePointer]\n",
    "\n",
    "\n",
    "        totalDecompositions = 0;\n",
    "        for i in range(1,2):\n",
    "\n",
    "            if i <= 2:\n",
    "                if (int(decodePointer) + i <= len(s)):\n",
    "                    snippet = s[decodePointer:(decodePointer+i)]\n",
    "\n",
    "                    if isValid(snippet) > 0:\n",
    "                        new_pointer = (decodePointer + i)\n",
    "                        print(\"decode pointer:{} {} {}\".format(s, new_pointer, dp))\n",
    "                        totalDecompositions += numDecodings(s, new_pointer, dp)\n",
    "                        print(\"Total decompositions {}\".format(totalDecompositions))\n",
    "\n",
    "                    # Record subproblem answer to decompositions from (decodePointer)...(s.length - 1)\n",
    "        dp[decodePointer] = totalDecompositions;\n",
    "        print(\"this is decodePointer: {}\".format(dp[decodePointer]))\n",
    "        return dp[decodePointer]\n",
    "           \n",
    "\n",
    "def isValid(s):\n",
    "    if (len(s) == 0 or s[0] == '0'):\n",
    "        return False\n",
    "\n",
    "    val = int(s)\n",
    "    print(\"This is val: {}\".format(val))\n",
    "\n",
    "    return val >= 1 and val <= 26;\n",
    "\n",
    "\n",
    "def mapDecoding(message):\n",
    "    return numDecodings(message)\n",
    "\n",
    "print(mapDecoding(\"123\"))"
   ]
  },
  {
   "cell_type": "code",
   "execution_count": null,
   "metadata": {},
   "outputs": [],
   "source": []
  }
 ],
 "metadata": {
  "kernelspec": {
   "display_name": "Python 3",
   "language": "python",
   "name": "python3"
  },
  "language_info": {
   "codemirror_mode": {
    "name": "ipython",
    "version": 3
   },
   "file_extension": ".py",
   "mimetype": "text/x-python",
   "name": "python",
   "nbconvert_exporter": "python",
   "pygments_lexer": "ipython3",
   "version": "3.7.3"
  }
 },
 "nbformat": 4,
 "nbformat_minor": 2
}
