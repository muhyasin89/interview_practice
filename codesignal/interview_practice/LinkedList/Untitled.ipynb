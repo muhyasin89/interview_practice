{
 "cells": [
  {
   "cell_type": "code",
   "execution_count": null,
   "metadata": {},
   "outputs": [],
   "source": [
    "# Singly-linked lists are already defined with this interface:\n",
    "class ListNode(object):\n",
    "    def __init__(self, x=None):\n",
    "        self.value = x\n",
    "        self.next = None\n",
    "        self.head = None\n",
    "        self.tail = None\n",
    "        \n",
    "    def __len__(self):\n",
    "        count = 0\n",
    "        current_node = self.head\n",
    "        while(current_node is not None):\n",
    "            count +=1\n",
    "            current_node = current_node.next\n",
    "        \n",
    "        return count\n",
    "    \n",
    "    def add_list_item(self, item):\n",
    "        \"\"\" add item at end of list \"\"\"\n",
    "        \n",
    "        if not isinstance(item, ListNode):\n",
    "            item = ListNode(item)\n",
    "\n",
    "        if self.head is None:\n",
    "            self.head = item\n",
    "        else:\n",
    "            self.tail.next = item\n",
    "\n",
    "        self.tail = item\n",
    "        \n",
    "        return \n",
    "    \n",
    "    def listprint(self):\n",
    "        printval = self.head\n",
    "        while printval is not None:\n",
    "            print (printval.value)\n",
    "            printval = printval.next\n",
    "            \n",
    "    # Function to reverse the linked list \n",
    "    def reverse(self): \n",
    "        prev = None\n",
    "        current = self.head \n",
    "        while(current is not None): \n",
    "            next = current.next\n",
    "            current.next = prev \n",
    "            prev = current \n",
    "            current = next\n",
    "        self.head = prev \n",
    "          \n",
    "    # Function to insert a new node at the beginning \n",
    "    def push(self, new_data): \n",
    "        new_node = Node(new_data) \n",
    "        new_node.next = self.head \n",
    "        self.head = new_node "
   ]
  },
  {
   "cell_type": "code",
   "execution_count": 38,
   "metadata": {},
   "outputs": [
    {
     "name": "stdout",
     "output_type": "stream",
     "text": [
      "item no:0\n",
      "item no:1\n",
      "item no:3\n",
      "item no:1\n",
      "item no:0\n",
      "0\n",
      "1\n",
      "3\n",
      "1\n",
      "0\n"
     ]
    }
   ],
   "source": [
    "import pprint\n",
    "\n",
    "l=[0,1,3,1,0]\n",
    "\n",
    "linkList = ListNode()\n",
    "\n",
    "# pprint.pprint(l)\n",
    "# pprint.pprint(sl)\n",
    "for item in l:\n",
    "    print(\"item no:{}\".format(item))\n",
    "    linkList.add_list_item(item)\n",
    "    \n",
    "linkList.listprint()"
   ]
  },
  {
   "cell_type": "code",
   "execution_count": 40,
   "metadata": {},
   "outputs": [
    {
     "name": "stdout",
     "output_type": "stream",
     "text": [
      "0\n",
      "1\n",
      "3\n",
      "1\n",
      "0\n"
     ]
    }
   ],
   "source": [
    "def print_link_list(link):\n",
    "    current_list = link.head\n",
    "    while(current_list != None):\n",
    "        print(current_list.value)\n",
    "        current_list = current_list.next\n",
    "    \n",
    "    return\n",
    "\n",
    "print_link_list(linkList)"
   ]
  },
  {
   "cell_type": "code",
   "execution_count": null,
   "metadata": {},
   "outputs": [],
   "source": [
    "def redefined_list(start_list, end_list, fromlist, toList):\n",
    "    while(1):\n",
    "        if start_list is end_list:\n",
    "            break\n",
    "            \n",
    "        toList.add_list_item(start_list)\n",
    "        start_list = start_list.next\n",
    "    \n",
    "    return toList\n",
    "\n",
    "#split linked list in middle\n",
    "def split_link(new_list):\n",
    "    while(1):\n",
    "        p = new_list.head\n",
    "        q = new_list.head\n",
    "        \n",
    "        p=p.next.next\n",
    "        if(p.next == None):\n",
    "            start_second = q.next.next\n",
    "            break\n",
    "        if(p == None):\n",
    "            start_second = q.next\n",
    "            break\n",
    "        q = q.next\n",
    "    q.next = None\n",
    "    \n",
    "    list1 = redefined_list(new_list.head, start_second, new_list, ListNode())\n",
    "    \n",
    "    pprint.pprint(list1.listprint())\n",
    "    \n",
    "    return\n",
    "\n",
    "split_list = split_link(linkList)\n",
    "    "
   ]
  },
  {
   "cell_type": "code",
   "execution_count": 42,
   "metadata": {},
   "outputs": [],
   "source": [
    "#if odd ignore middle node\n",
    "def ignore_middle_node(list1, list2):\n",
    "    if list_1.__len__ < list_2.__len__:\n",
    "        list2.head = list2.next\n",
    "        \n",
    "    return list2"
   ]
  },
  {
   "cell_type": "code",
   "execution_count": null,
   "metadata": {},
   "outputs": [],
   "source": [
    "#reverse second linkedList\n",
    "    "
   ]
  },
  {
   "cell_type": "code",
   "execution_count": 44,
   "metadata": {},
   "outputs": [],
   "source": [
    "#compare two LinkedList\n",
    "def equal_list(list1, list2):\n",
    "    while list1 and list2 and list1.value == list2.value:\n",
    "        list1 = list1.next\n",
    "        list2 = list2.next\n",
    "    if not list1 and not list2:\n",
    "        return True\n",
    "    return False\n"
   ]
  },
  {
   "cell_type": "code",
   "execution_count": null,
   "metadata": {},
   "outputs": [],
   "source": [
    "list_1 = ListNode() \n",
    "list_2 = ListNode()\n",
    "    \n",
    "split_list = split_link(linkList)\n"
   ]
  },
  {
   "cell_type": "code",
   "execution_count": null,
   "metadata": {},
   "outputs": [],
   "source": []
  }
 ],
 "metadata": {
  "kernelspec": {
   "display_name": "Python 3",
   "language": "python",
   "name": "python3"
  },
  "language_info": {
   "codemirror_mode": {
    "name": "ipython",
    "version": 3
   },
   "file_extension": ".py",
   "mimetype": "text/x-python",
   "name": "python",
   "nbconvert_exporter": "python",
   "pygments_lexer": "ipython3",
   "version": "3.7.3"
  }
 },
 "nbformat": 4,
 "nbformat_minor": 2
}
