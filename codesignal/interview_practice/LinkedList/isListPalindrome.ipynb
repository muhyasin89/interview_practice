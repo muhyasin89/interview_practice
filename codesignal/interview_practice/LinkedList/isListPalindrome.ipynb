{
 "cells": [
  {
   "cell_type": "markdown",
   "metadata": {},
   "source": [
    "<h3>This is only for normal list</h3>"
   ]
  },
  {
   "cell_type": "code",
   "execution_count": 9,
   "metadata": {},
   "outputs": [
    {
     "name": "stdout",
     "output_type": "stream",
     "text": [
      "True\n"
     ]
    }
   ],
   "source": [
    "\n",
    "l = [0, 1, 0]\n",
    "\n",
    "\n",
    "\n",
    "\n",
    "def reverse_list(original_list):\n",
    "    if original_list.__class__ == \"ListNode\":\n",
    "            list_len = original_list.__len__\n",
    "    else:\n",
    "        list_len = len(original_list)\n",
    "    temp_list = [None]*list_len\n",
    "    j = list_len\n",
    "    \n",
    "    for item in original_list:\n",
    "        temp_list[j-1] = item\n",
    "        j -= 1\n",
    "        \n",
    "    return temp_list\n",
    "\n",
    "def isListPalindrome(l):\n",
    "    rev = reverse_list(l)\n",
    "    \n",
    "    for i in range(len(l)):\n",
    "        if rev[i] != l[i]:\n",
    "            return False\n",
    "    return True\n",
    "    \n",
    "\n",
    "    \n",
    "print(isListPalindrome(l))"
   ]
  },
  {
   "cell_type": "markdown",
   "metadata": {},
   "source": [
    "<h3>This is for linked List</h3>"
   ]
  },
  {
   "cell_type": "markdown",
   "metadata": {},
   "source": [
    "reference: https://www.youtube.com/watch?v=oZuR2-AKkXE"
   ]
  },
  {
   "cell_type": "code",
   "execution_count": null,
   "metadata": {},
   "outputs": [],
   "source": [
    "# Singly-linked lists are already defined with this interface:\n",
    "class ListNode(object):\n",
    "  def __init__(self, x):\n",
    "    self.value = x\n",
    "    self.next = None\n",
    "\n",
    "    \n",
    "#split linked list in middle\n",
    "\n",
    "\n",
    "#prepare two linked list\n",
    "\n",
    "\n",
    "#if odd ignore middle node\n",
    "\n",
    "\n",
    "#reverse second linkedList\n",
    "\n",
    "\n",
    "#compare two LinkedList\n",
    "\n"
   ]
  },
  {
   "cell_type": "markdown",
   "metadata": {},
   "source": [
    "Reverese LinkList\n",
    "\n",
    "reference: https://www.youtube.com/watch?v=4mm39dVLlZ0"
   ]
  },
  {
   "cell_type": "code",
   "execution_count": null,
   "metadata": {},
   "outputs": [],
   "source": []
  }
 ],
 "metadata": {
  "kernelspec": {
   "display_name": "Python 3",
   "language": "python",
   "name": "python3"
  },
  "language_info": {
   "codemirror_mode": {
    "name": "ipython",
    "version": 3
   },
   "file_extension": ".py",
   "mimetype": "text/x-python",
   "name": "python",
   "nbconvert_exporter": "python",
   "pygments_lexer": "ipython3",
   "version": "3.7.3"
  }
 },
 "nbformat": 4,
 "nbformat_minor": 2
}
