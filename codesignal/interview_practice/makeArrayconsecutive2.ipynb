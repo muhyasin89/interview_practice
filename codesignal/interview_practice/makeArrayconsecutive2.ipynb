{
 "cells": [
  {
   "cell_type": "code",
   "execution_count": null,
   "metadata": {},
   "outputs": [],
   "source": [
    "\n",
    "def makeArrayConsecutive2(statues):\n",
    "    rang = statues.sort()\n",
    "\n",
    "    some = 0\n",
    "\n",
    "    if len(rang)-1 == 0:\n",
    "        return 0\n",
    "\n",
    "    else:\n",
    "        i=0\n",
    "\n",
    "        for i in range(len(rang)-2):\n",
    "            some += rang[i+1] - rang[i] - 1\n",
    "\n",
    "        return some\n"
   ]
  }
 ],
 "metadata": {
  "kernelspec": {
   "display_name": "Python 3",
   "language": "python",
   "name": "python3"
  },
  "language_info": {
   "codemirror_mode": {
    "name": "ipython",
    "version": 3
   },
   "file_extension": ".py",
   "mimetype": "text/x-python",
   "name": "python",
   "nbconvert_exporter": "python",
   "pygments_lexer": "ipython3",
   "version": "3.7.3"
  }
 },
 "nbformat": 4,
 "nbformat_minor": 2
}
