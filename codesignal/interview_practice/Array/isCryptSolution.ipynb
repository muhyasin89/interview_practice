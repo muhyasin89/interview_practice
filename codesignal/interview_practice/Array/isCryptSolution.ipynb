{
 "cells": [
  {
   "cell_type": "markdown",
   "metadata": {},
   "source": [
    "crypt = [\"SEND\", \"MORE\", \"MONEY\"]\n",
    "\n",
    "solution = [['O', '0'],\n",
    "            ['M', '1'],\n",
    "            ['Y', '2'],\n",
    "            ['E', '5'],\n",
    "            ['N', '6'],\n",
    "            ['D', '7'],\n",
    "            ['R', '8'],\n",
    "            ['S', '9']]\n",
    "\n",
    "isCryptSolution(crypt, solution) = true.\n",
    "\n",
    "9567 + 1085 = 10652 # send + more = money"
   ]
  },
  {
   "cell_type": "markdown",
   "metadata": {},
   "source": [
    "#======================heading 2===========================#\n",
    "\n",
    "crypt = [\"TEN\", \"TWO\", \"ONE\"]\n",
    "\n",
    "solution = [['O', '1'],\n",
    "            ['T', '0'],\n",
    "            ['W', '9'],\n",
    "            ['E', '5'],\n",
    "            ['N', '4']]\n",
    "            \n",
    "isCryptSolution(crypt, solution) = false\n",
    "\n",
    "054 + 091 = 145, 054 and 091"
   ]
  },
  {
   "cell_type": "code",
   "execution_count": 2,
   "metadata": {},
   "outputs": [],
   "source": [
    "# encrypt the list and get result\n",
    "\n",
    "\n",
    "# check if first and second started by 0\n",
    "\n",
    "\n",
    "# adding first and second to get third\n",
    "\n",
    "# check if the third can be convert to string and has same result\n",
    "\n",
    "#return it whether it's true or false"
   ]
  },
  {
   "cell_type": "code",
   "execution_count": null,
   "metadata": {},
   "outputs": [],
   "source": []
  }
 ],
 "metadata": {
  "kernelspec": {
   "display_name": "Python 3",
   "language": "python",
   "name": "python3"
  },
  "language_info": {
   "codemirror_mode": {
    "name": "ipython",
    "version": 3
   },
   "file_extension": ".py",
   "mimetype": "text/x-python",
   "name": "python",
   "nbconvert_exporter": "python",
   "pygments_lexer": "ipython3",
   "version": "3.7.3"
  }
 },
 "nbformat": 4,
 "nbformat_minor": 2
}
