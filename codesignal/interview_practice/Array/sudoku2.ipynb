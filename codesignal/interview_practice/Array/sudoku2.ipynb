{
 "cells": [
  {
   "cell_type": "code",
   "execution_count": 1,
   "metadata": {},
   "outputs": [],
   "source": [
    "#true\n",
    "grid = [['.', '.', '.', '1', '4', '.', '.', '2', '.'],\n",
    "        ['.', '.', '6', '.', '.', '.', '.', '.', '.'],\n",
    "        ['.', '.', '.', '.', '.', '.', '.', '.', '.'],\n",
    "        ['.', '.', '1', '.', '.', '.', '.', '.', '.'],\n",
    "        ['.', '6', '7', '.', '.', '.', '.', '.', '9'],\n",
    "        ['.', '.', '.', '.', '.', '.', '8', '1', '.'],\n",
    "        ['.', '3', '.', '.', '.', '.', '.', '.', '6'],\n",
    "        ['.', '.', '.', '.', '.', '7', '.', '.', '.'],\n",
    "        ['.', '.', '.', '5', '.', '.', '.', '7', '.']]\n",
    "\n",
    "#false\n",
    "grid = [['.', '.', '.', '.', '2', '.', '.', '9', '.'],\n",
    "        ['.', '.', '.', '.', '6', '.', '.', '.', '.'],\n",
    "        ['7', '1', '.', '.', '7', '5', '.', '.', '.'],\n",
    "        ['.', '7', '.', '.', '.', '.', '.', '.', '.'],\n",
    "        ['.', '.', '.', '.', '8', '3', '.', '.', '.'],\n",
    "        ['.', '.', '8', '.', '.', '7', '.', '6', '.'],\n",
    "        ['.', '.', '.', '.', '.', '2', '.', '.', '.'],\n",
    "        ['.', '1', '.', '2', '.', '.', '.', '.', '.'],\n",
    "        ['.', '2', '.', '.', '3', '.', '.', '.', '.']]\n",
    "\n",
    "# get all column and devide it into list\n",
    "\n",
    "#check every column for duplication\n",
    "\n",
    "#if there is any make it false\n"
   ]
  },
  {
   "cell_type": "code",
   "execution_count": 2,
   "metadata": {},
   "outputs": [],
   "source": [
    "#print the column and the number that has duplication"
   ]
  },
  {
   "cell_type": "code",
   "execution_count": null,
   "metadata": {},
   "outputs": [],
   "source": []
  }
 ],
 "metadata": {
  "kernelspec": {
   "display_name": "Python 3",
   "language": "python",
   "name": "python3"
  },
  "language_info": {
   "codemirror_mode": {
    "name": "ipython",
    "version": 3
   },
   "file_extension": ".py",
   "mimetype": "text/x-python",
   "name": "python",
   "nbconvert_exporter": "python",
   "pygments_lexer": "ipython3",
   "version": "3.7.3"
  }
 },
 "nbformat": 4,
 "nbformat_minor": 2
}
