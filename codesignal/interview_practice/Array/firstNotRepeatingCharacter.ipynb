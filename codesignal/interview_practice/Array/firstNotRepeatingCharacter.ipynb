{
 "cells": [
  {
   "cell_type": "markdown",
   "metadata": {},
   "source": [
    "-first test 1\n",
    "s1 = \"abacabad\"\n",
    "\n",
    "result1 = 'c' #because the d is second one\n",
    "\n",
    "-second test 2\n",
    "\n",
    "s2 = \"abacabaabacaba\"\n",
    "\n",
    "result2 = '_' #there is no unrepeatable character"
   ]
  },
  {
   "cell_type": "code",
   "execution_count": 1,
   "metadata": {},
   "outputs": [],
   "source": [
    "s = \"abacabad\"\n",
    "\n",
    "def checkDuplicate(s):\n",
    "    pass\n",
    "\n",
    "def getUnduplicate(s):\n",
    "    pass\n",
    "\n",
    "def getMinDuplicate(s):\n",
    "    pass"
   ]
  },
  {
   "cell_type": "markdown",
   "metadata": {},
   "source": [
    "Counting Repeated character in String"
   ]
  },
  {
   "cell_type": "markdown",
   "metadata": {},
   "source": [
    "Reference : https://stackoverflow.com/questions/991350/counting-repeated-characters-in-a-string-in-python"
   ]
  },
  {
   "cell_type": "code",
   "execution_count": 7,
   "metadata": {},
   "outputs": [
    {
     "name": "stdout",
     "output_type": "stream",
     "text": [
      "h has 2\n",
      "l has 3\n",
      "  has 4\n",
      "s has 2\n",
      "a has 8\n",
      "y has 2\n"
     ]
    }
   ],
   "source": [
    "# this is not related to test but to improvise\n",
    "check_string = \"hello saya adalah siapa ya\"\n",
    "chars = \"abcdefghijklmnopqrstuvwxyz\"\n",
    "\n",
    "\n",
    "# without collection\n",
    "count ={}\n",
    "for s in check_string:\n",
    "    if s in count:\n",
    "        count[s] += 1\n",
    "    else:\n",
    "        count[s] = 1\n",
    "        \n",
    "        \n",
    "for key in count:\n",
    "    if count[key] > 1:\n",
    "        print(\"{} has {}\".format(key, count[key])) \n"
   ]
  },
  {
   "cell_type": "code",
   "execution_count": 15,
   "metadata": {},
   "outputs": [
    {
     "data": {
      "text/plain": [
       "defaultdict(int,\n",
       "            {'h': 2,\n",
       "             'e': 1,\n",
       "             'l': 3,\n",
       "             'o': 1,\n",
       "             ' ': 4,\n",
       "             's': 2,\n",
       "             'a': 8,\n",
       "             'y': 2,\n",
       "             'd': 1,\n",
       "             'i': 1,\n",
       "             'p': 1})"
      ]
     },
     "execution_count": 15,
     "metadata": {},
     "output_type": "execute_result"
    }
   ],
   "source": [
    "#with collection\n",
    "\n",
    "import collections\n",
    "\n",
    "d = collections.defaultdict(int)\n",
    "\n",
    "for s in check_string:\n",
    "    d[s] += 1\n",
    "    \n",
    "d"
   ]
  },
  {
   "cell_type": "code",
   "execution_count": 22,
   "metadata": {},
   "outputs": [
    {
     "name": "stdout",
     "output_type": "stream",
     "text": [
      "h : 2 \n",
      "e : 1 \n",
      "l : 3 \n",
      "o : 1 \n",
      "  : 4 \n",
      "s : 2 \n",
      "a : 8 \n",
      "y : 2 \n",
      "d : 1 \n",
      "i : 1 \n",
      "p : 1 \n"
     ]
    }
   ],
   "source": [
    "for v in d:\n",
    "    print(\"{} : {} \".format(v, d[v]))"
   ]
  },
  {
   "cell_type": "code",
   "execution_count": null,
   "metadata": {},
   "outputs": [],
   "source": []
  }
 ],
 "metadata": {
  "kernelspec": {
   "display_name": "Python 3",
   "language": "python",
   "name": "python3"
  },
  "language_info": {
   "codemirror_mode": {
    "name": "ipython",
    "version": 3
   },
   "file_extension": ".py",
   "mimetype": "text/x-python",
   "name": "python",
   "nbconvert_exporter": "python",
   "pygments_lexer": "ipython3",
   "version": "3.7.3"
  }
 },
 "nbformat": 4,
 "nbformat_minor": 2
}
