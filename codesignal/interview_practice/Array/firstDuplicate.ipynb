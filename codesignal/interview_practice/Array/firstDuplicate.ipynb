{
 "cells": [
  {
   "cell_type": "code",
   "execution_count": 3,
   "metadata": {},
   "outputs": [
    {
     "name": "stdout",
     "output_type": "stream",
     "text": [
      "[2, 3]\n"
     ]
    }
   ],
   "source": [
    "import collections\n",
    "\n",
    "a = [2,1,3,5,3,2]\n",
    "\n",
    "def firstDuplicate(a):\n",
    "    list_item =  [item for item, count in collections.Counter(a).items() if count > 1]\n",
    "\n",
    "    list_result = list_item if(len(list_item) > 0) else -1\n",
    "    return list_result if(len(list_result) == 1) else list_result\n",
    "\n",
    "print(firstDuplicate(a))"
   ]
  },
  {
   "cell_type": "code",
   "execution_count": 13,
   "metadata": {},
   "outputs": [
    {
     "data": {
      "text/plain": [
       "[0, 5]"
      ]
     },
     "execution_count": 13,
     "metadata": {},
     "output_type": "execute_result"
    }
   ],
   "source": [
    "[i for i, x in enumerate(a) if x == 2  ]"
   ]
  },
  {
   "cell_type": "code",
   "execution_count": 20,
   "metadata": {},
   "outputs": [
    {
     "name": "stdout",
     "output_type": "stream",
     "text": [
      "[0]\n",
      "[1]\n",
      "[1]\n"
     ]
    },
    {
     "data": {
      "text/plain": [
       "2"
      ]
     },
     "execution_count": 20,
     "metadata": {},
     "output_type": "execute_result"
    }
   ],
   "source": [
    "import pprint\n",
    "def check_index_duplicate_list(a):\n",
    "        second_index_list = []\n",
    "        for item in a:\n",
    "            b = [i for i, x in enumerate(a) if x == item]\n",
    "            pprint.pprint(b)\n",
    "            second_index_list.append(b[-1])\n",
    "        pprint.pprint(b)\n",
    "        min_list = min(second_index_list)\n",
    "        return a[min_list]\n",
    "            \n",
    "check_index_duplicate_list(firstDuplicate(a))"
   ]
  },
  {
   "cell_type": "code",
   "execution_count": 12,
   "metadata": {},
   "outputs": [
    {
     "data": {
      "text/plain": [
       "0"
      ]
     },
     "execution_count": 12,
     "metadata": {},
     "output_type": "execute_result"
    }
   ],
   "source": [
    "a.index(2)"
   ]
  },
  {
   "cell_type": "code",
   "execution_count": 36,
   "metadata": {},
   "outputs": [
    {
     "name": "stdout",
     "output_type": "stream",
     "text": [
      "2\n",
      "[0, 5]\n",
      "3\n",
      "[2, 4]\n",
      "[[0, 5], [2, 4]]\n",
      "[5, 4]\n",
      "3\n"
     ]
    }
   ],
   "source": [
    "a = [2,1,3,5,3,2]\n",
    "first_duplicate = firstDuplicate(a)\n",
    "\n",
    "first_duplicate\n",
    "\n",
    "# index of 2 and index of 3\n",
    "b = []\n",
    "second_index = []\n",
    "for item in first_duplicate:\n",
    "    print(item)\n",
    "    check_duplicate = [i for i, x in enumerate(a) if x == item]\n",
    "    pprint.pprint(check_duplicate)\n",
    "    b.append(check_duplicate)\n",
    "    second_index.append(check_duplicate[-1])\n",
    "    \n",
    "print(b)\n",
    "print(second_index)\n",
    "print(a[min(second_index)])"
   ]
  },
  {
   "cell_type": "markdown",
   "metadata": {},
   "source": [
    "# final conclusion"
   ]
  },
  {
   "cell_type": "code",
   "execution_count": 45,
   "metadata": {},
   "outputs": [
    {
     "name": "stdout",
     "output_type": "stream",
     "text": [
      "3\n"
     ]
    }
   ],
   "source": [
    "import collections\n",
    "\n",
    "# a = [2,1,3,5,3,2]\n",
    "a = [8, 4, 6, 2, 6, 4, 7, 9, 5, 8]\n",
    "\n",
    "def get_duplicate(a):\n",
    "\n",
    "    list_item =  [item for item, count in collections.Counter(a).items() if count > 1]\n",
    "\n",
    "    list_result = list_item if(len(list_item) > 0) else -1\n",
    "    if list_result is not -1:\n",
    "        final_value = list_result[0] if(len(list_result) == 1) else list_result\n",
    "    else:\n",
    "        final_value = list_result\n",
    "    return final_value\n",
    "\n",
    "def get_second_index(duplicate_list):\n",
    "    second_index = []\n",
    "    for item in duplicate_list:    \n",
    "        check_duplicate = [i for i, x in enumerate(a) if x == item]\n",
    "        if type(check_duplicate) is list:\n",
    "            if len(check_duplicate) > 0:\n",
    "                second_index.append(check_duplicate[-1])\n",
    "\n",
    "    return second_index\n",
    "\n",
    "def firstDuplicate(a):\n",
    "    duplicate_list = get_duplicate(a)\n",
    "    if type(duplicate_list) is not list:\n",
    "       final_value =  duplicate_list\n",
    "    else:\n",
    "        second_index =get_second_index(duplicate_list)\n",
    "        if len(second_index) > 0:\n",
    "            final_value = a[min(second_index)]\n",
    "        else:\n",
    "            if type(second_index) is list:\n",
    "                final_value = second_index\n",
    "            else:\n",
    "                final_value = a[duplicate_list]\n",
    "    #get first duplicate\n",
    "    return final_value\n",
    "\n",
    "print(firstDuplicate(a))"
   ]
  },
  {
   "cell_type": "code",
   "execution_count": null,
   "metadata": {},
   "outputs": [],
   "source": []
  }
 ],
 "metadata": {
  "kernelspec": {
   "display_name": "Python 3",
   "language": "python",
   "name": "python3"
  },
  "language_info": {
   "codemirror_mode": {
    "name": "ipython",
    "version": 3
   },
   "file_extension": ".py",
   "mimetype": "text/x-python",
   "name": "python",
   "nbconvert_exporter": "python",
   "pygments_lexer": "ipython3",
   "version": "3.7.3"
  }
 },
 "nbformat": 4,
 "nbformat_minor": 2
}
