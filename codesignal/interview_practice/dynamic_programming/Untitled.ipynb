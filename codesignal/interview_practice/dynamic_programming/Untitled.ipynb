{
 "cells": [
  {
   "cell_type": "code",
   "execution_count": 14,
   "metadata": {},
   "outputs": [
    {
     "name": "stdout",
     "output_type": "stream",
     "text": [
      "decode_pointer:None, dp:0\n",
      "decode_pointer:0, dp:3\n",
      "this is i:0\n",
      "inside snippet 0:0\n",
      "snippet false\n",
      "0\n"
     ]
    }
   ],
   "source": [
    "\"\"\"\n",
    "#make recursiive class\n",
    "\"\"\"\n",
    "\n",
    "def numDecoding(s, decodePointer=None, dp=[]):\n",
    "    print(\"decode_pointer:{}, dp:{}\".format(decodePointer, len(dp)))\n",
    "    if decodePointer is None and len(dp) == 0:\n",
    "        dp = [-1]*len(s)\n",
    "        return numDecoding(s, 0, dp)\n",
    "    else:\n",
    "        if (decodePointer >= len(s)):\n",
    "          return 1; # \"\" is a valid decomposition\n",
    "\n",
    "\n",
    "        # Subproblem already solved and has a value       \n",
    "        if (dp[decodePointer] > -1):\n",
    "             return dp[decodePointer]\n",
    "\n",
    "\n",
    "        totalDecompositions = 0;\n",
    "        for i in range(2):\n",
    "            print(\"this is i:{}\".format(i))\n",
    "            if i <= 2:\n",
    "                if (int(decodePointer) + i <= len(s)):\n",
    "                    print(\"inside snippet {}:{}\".format(decodePointer, decodePointer+i))\n",
    "                    snippet = s[decodePointer:(decodePointer+i)]\n",
    "                    \n",
    "                    if isValid(snippet):\n",
    "                        print(\"snippet true\")\n",
    "                        totalDecompositions += numDecoding(s, decodePointer + i, dp)\n",
    "                    else:\n",
    "                        print(\"snippet false\")\n",
    "\n",
    "                    # Record subproblem answer to decompositions from (decodePointer)...(s.length - 1)\n",
    "                    dp[decodePointer] = totalDecompositions;\n",
    "\n",
    "                    return dp[decodePointer]\n",
    "        else:\n",
    "            return False\n",
    "\n",
    "def isValid(s):\n",
    "    if (len(s) == 0 or s[0] == '0'):\n",
    "        return False\n",
    "\n",
    "    val = int(s)\n",
    "\n",
    "    return val >= 1 and val <= 26;\n",
    "\n",
    "\n",
    "def mapDecoding(message):\n",
    "    return numDecoding(message)\n",
    "    \n",
    "\n",
    "print(mapDecoding(\"123\"))"
   ]
  },
  {
   "cell_type": "code",
   "execution_count": 8,
   "metadata": {},
   "outputs": [
    {
     "name": "stdout",
     "output_type": "stream",
     "text": [
      "False\n"
     ]
    }
   ],
   "source": [
    "decodePointer=0\n",
    "if decodePointer:\n",
    "    print(\"True\")\n",
    "else:\n",
    "    print(\"False\")"
   ]
  },
  {
   "cell_type": "code",
   "execution_count": null,
   "metadata": {},
   "outputs": [],
   "source": []
  },
  {
   "cell_type": "code",
   "execution_count": null,
   "metadata": {},
   "outputs": [],
   "source": []
  }
 ],
 "metadata": {
  "kernelspec": {
   "display_name": "Python 3",
   "language": "python",
   "name": "python3"
  },
  "language_info": {
   "codemirror_mode": {
    "name": "ipython",
    "version": 3
   },
   "file_extension": ".py",
   "mimetype": "text/x-python",
   "name": "python",
   "nbconvert_exporter": "python",
   "pygments_lexer": "ipython3",
   "version": "3.7.3"
  }
 },
 "nbformat": 4,
 "nbformat_minor": 2
}
