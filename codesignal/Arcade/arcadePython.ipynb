{
 "cells": [
  {
   "cell_type": "markdown",
   "metadata": {},
   "source": [
    "collection Thruthness"
   ]
  },
  {
   "cell_type": "code",
   "execution_count": 3,
   "metadata": {},
   "outputs": [
    {
     "data": {
      "text/plain": [
       "[True, False]"
      ]
     },
     "execution_count": 3,
     "metadata": {},
     "output_type": "execute_result"
    }
   ],
   "source": [
    "xs =[()]\n",
    "res = [False] * 2\n",
    "res\n",
    "\n",
    "if xs:\n",
    "    res[0] = True\n",
    "if xs[0]:\n",
    "    res[1] = True\n",
    "res"
   ]
  },
  {
   "cell_type": "code",
   "execution_count": 6,
   "metadata": {},
   "outputs": [
    {
     "name": "stdout",
     "output_type": "stream",
     "text": [
      "True\n",
      "0.00012040138244628906\n",
      "True\n",
      "7.05718994140625e-05\n"
     ]
    }
   ],
   "source": [
    "import time\n",
    "\n",
    "s1 = time.time()\n",
    "if 3<2**3<=9:\n",
    "    print(True)\n",
    "    e1 = time.time()\n",
    "    print(e1-s1)\n",
    "\n",
    "s2 = time.time()\n",
    "if 23>3 and 23<=9:\n",
    "    print(True)\n",
    "    e2 = time.time()\n",
    "    print(e2-s2)\n",
    "\n",
    "s3 = time.time()\n",
    "if 2**3 in range(4, 10):\n",
    "    print (True)\n",
    "    e3 = time.time()\n",
    "    print(e3-s3)\n",
    "\n"
   ]
  },
  {
   "cell_type": "code",
   "execution_count": 13,
   "metadata": {},
   "outputs": [
    {
     "data": {
      "text/plain": [
       "-4"
      ]
     },
     "execution_count": 13,
     "metadata": {},
     "output_type": "execute_result"
    }
   ],
   "source": [
    "def devide(a,b):\n",
    "    return a//b\n",
    "\n",
    "\n",
    "# devide(12,2)\n",
    "# devide(-10,-7)\n",
    "devide(15,-4)"
   ]
  },
  {
   "cell_type": "code",
   "execution_count": 16,
   "metadata": {},
   "outputs": [
    {
     "data": {
      "text/plain": [
       "[1, 2, 4, 5]"
      ]
     },
     "execution_count": 16,
     "metadata": {},
     "output_type": "execute_result"
    }
   ],
   "source": [
    "def simpleSort(arr):\n",
    "\n",
    "    n = len(arr)\n",
    "    temp = None\n",
    "\n",
    "    for i in range(n):\n",
    "        j = 0\n",
    "        stop = n - i\n",
    "        while j < stop - 1:\n",
    "            if arr[j] > arr[j + 1]:\n",
    "               temp = arr[j]\n",
    "               arr[j] = arr[j+1]\n",
    "               arr[j+1] = temp\n",
    "            j += 1\n",
    "    return arr\n",
    "\n",
    "simpleSort([2, 4, 1, 5])"
   ]
  },
  {
   "cell_type": "code",
   "execution_count": 17,
   "metadata": {},
   "outputs": [
    {
     "data": {
      "text/plain": [
       "[1, 2, 4, 5]"
      ]
     },
     "execution_count": 17,
     "metadata": {},
     "output_type": "execute_result"
    }
   ],
   "source": [
    "def simpleSort(arr):\n",
    "\n",
    "    n = len(arr)\n",
    "    temp = None\n",
    "\n",
    "    for i in range(n):\n",
    "        j = 0\n",
    "        stop = n - i\n",
    "        while j < stop - 1:\n",
    "            if arr[j] > arr[j + 1]:\n",
    "               arr[j], arr[j+1] = arr[j+1], arr[j]\n",
    "            j += 1\n",
    "    return arr\n",
    "\n",
    "simpleSort([2, 4, 1, 5])"
   ]
  },
  {
   "cell_type": "markdown",
   "metadata": {},
   "source": [
    "#converting int to hex"
   ]
  },
  {
   "cell_type": "code",
   "execution_count": 18,
   "metadata": {},
   "outputs": [],
   "source": [
    "def baseConversion(n, x):\n",
    "    return hex(int(n, x))[2:]"
   ]
  },
  {
   "cell_type": "code",
   "execution_count": 19,
   "metadata": {},
   "outputs": [],
   "source": [
    "def listBeautifier(a):\n",
    "    res = a[:]\n",
    "    while res and res[0] != res[-1]:\n",
    "        a, *res, b = res\n",
    "    return res\n"
   ]
  },
  {
   "cell_type": "code",
   "execution_count": null,
   "metadata": {},
   "outputs": [],
   "source": []
  }
 ],
 "metadata": {
  "kernelspec": {
   "display_name": "Python 3",
   "language": "python",
   "name": "python3"
  },
  "language_info": {
   "codemirror_mode": {
    "name": "ipython",
    "version": 3
   },
   "file_extension": ".py",
   "mimetype": "text/x-python",
   "name": "python",
   "nbconvert_exporter": "python",
   "pygments_lexer": "ipython3",
   "version": "3.7.3"
  }
 },
 "nbformat": 4,
 "nbformat_minor": 2
}
