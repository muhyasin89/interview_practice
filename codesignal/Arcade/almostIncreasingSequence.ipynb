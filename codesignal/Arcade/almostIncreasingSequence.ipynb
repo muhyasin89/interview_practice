{
 "cells": [
  {
   "cell_type": "code",
   "execution_count": 6,
   "metadata": {},
   "outputs": [
    {
     "name": "stdout",
     "output_type": "stream",
     "text": [
      "True\n",
      "True\n"
     ]
    }
   ],
   "source": [
    "def almostIncreasingSequence(sequence):\n",
    "    if (isIncreasingSequence(sequence)):\n",
    "        return true\n",
    "\n",
    "    i = 0\n",
    "    for i in range(len(sequence)):\n",
    "        temp = sequence[::-1]\n",
    "        \n",
    "        temp = temp[i:1]\n",
    "        if (isIncreasingSequence(temp)):\n",
    "            return True\n",
    "    \n",
    "        i+=1\n",
    "    return False\n",
    "    \n",
    "def isIncreasingSequence(sequence):\n",
    "    i=0\n",
    "    for i in range(len(sequence)-1):\n",
    "        if sequence[i] >= sequence[i+1]:\n",
    "            return False\n",
    "        i+=1\n",
    "        \n",
    "    return True\n",
    "    \n",
    "\n",
    "a = [1, 3, 2, 1]\n",
    "b = [1, 3, 2]\n",
    "print(almostIncreasingSequence(a)) \n",
    "print(almostIncreasingSequence(b))\n"
   ]
  },
  {
   "cell_type": "code",
   "execution_count": null,
   "metadata": {},
   "outputs": [],
   "source": []
  }
 ],
 "metadata": {
  "kernelspec": {
   "display_name": "Python 3",
   "language": "python",
   "name": "python3"
  },
  "language_info": {
   "codemirror_mode": {
    "name": "ipython",
    "version": 3
   },
   "file_extension": ".py",
   "mimetype": "text/x-python",
   "name": "python",
   "nbconvert_exporter": "python",
   "pygments_lexer": "ipython3",
   "version": "3.7.3"
  }
 },
 "nbformat": 4,
 "nbformat_minor": 2
}
