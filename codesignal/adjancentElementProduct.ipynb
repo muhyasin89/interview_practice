{
 "cells": [
  {
   "cell_type": "code",
   "execution_count": 10,
   "metadata": {},
   "outputs": [
    {
     "name": "stdout",
     "output_type": "stream",
     "text": [
      "panjang list 6\n",
      "0\n",
      "[]\n",
      "1\n",
      "[18]\n",
      "2\n",
      "[18, -12]\n",
      "3\n",
      "[18, -12, 10]\n",
      "4\n",
      "[18, -12, 10, -35]\n",
      "5\n",
      "[18, -12, 10, -35, 21]\n",
      "wew\n",
      "21\n"
     ]
    }
   ],
   "source": [
    "import pprint\n",
    "\n",
    "def adjacentElementsProduct(inputArray):\n",
    "    print(\"panjang list {}\".format(len(inputArray)))\n",
    "    if len(inputArray) % 2 == 0:\n",
    "        last_result = []\n",
    "        for i in range(len(inputArray)):\n",
    "            print(i)\n",
    "            pprint.pprint(last_result)\n",
    "            \n",
    "            \n",
    "            if i == (len(inputArray)-1):\n",
    "                print(\"wew\")\n",
    "                break\n",
    "                \n",
    "            temp_data = inputArray[i] * inputArray[i+1]\n",
    "            last_result.append(temp_data)\n",
    "\n",
    "        return max(last_result)\n",
    "    \n",
    "result = adjacentElementsProduct([3, 6, -2, -5, 7, 3])\n",
    "print(\"{}\".format(result))"
   ]
  },
  {
   "cell_type": "code",
   "execution_count": null,
   "metadata": {},
   "outputs": [],
   "source": [
    "\n",
    "\n",
    "def adjacentElementsProduct(inputArray):\n",
    "    if len(inputArray) % 2 == 0:\n",
    "        last_result = []\n",
    "        for i in range(len(inputArray)):\n",
    "            \n",
    "            if i == (len(inputArray)-1):\n",
    "                break\n",
    "                \n",
    "            temp_data = inputArray[i] * inputArray[i+1]\n",
    "            last_result.append(temp_data)\n",
    "\n",
    "        return max(last_result)\n",
    "    \n",
    "result = adjacentElementsProduct([3, 6, -2, -5, 7, 3])\n",
    "print(\"{}\".format(result))"
   ]
  },
  {
   "cell_type": "code",
   "execution_count": null,
   "metadata": {},
   "outputs": [],
   "source": []
  }
 ],
 "metadata": {
  "kernelspec": {
   "display_name": "Python 3",
   "language": "python",
   "name": "python3"
  },
  "language_info": {
   "codemirror_mode": {
    "name": "ipython",
    "version": 3
   },
   "file_extension": ".py",
   "mimetype": "text/x-python",
   "name": "python",
   "nbconvert_exporter": "python",
   "pygments_lexer": "ipython3",
   "version": "3.7.3"
  }
 },
 "nbformat": 4,
 "nbformat_minor": 2
}
